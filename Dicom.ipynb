{
  "nbformat": 4,
  "nbformat_minor": 0,
  "metadata": {
    "colab": {
      "provenance": []
    },
    "kernelspec": {
      "name": "python3",
      "display_name": "Python 3"
    },
    "language_info": {
      "name": "python"
    }
  },
  "cells": [
    {
      "cell_type": "markdown",
      "source": [
        "# Загрузка данных"
      ],
      "metadata": {
        "id": "tNGVNN_zTQa6"
      }
    },
    {
      "cell_type": "code",
      "execution_count": 1,
      "metadata": {
        "colab": {
          "base_uri": "https://localhost:8080/"
        },
        "id": "iXMC65RayFiB",
        "outputId": "6ea742a1-c1c6-4428-836e-703d52d4af7f"
      },
      "outputs": [
        {
          "output_type": "stream",
          "name": "stdout",
          "text": [
            "Cloning into 'recruit'...\n",
            "remote: Enumerating objects: 1722, done.\u001b[K\n",
            "remote: Counting objects: 100% (1722/1722), done.\u001b[K\n",
            "remote: Compressing objects: 100% (501/501), done.\u001b[K\n",
            "remote: Total 1722 (delta 1222), reused 1716 (delta 1220), pack-reused 0\u001b[K\n",
            "Receiving objects: 100% (1722/1722), 521.89 KiB | 4.97 MiB/s, done.\n",
            "Resolving deltas: 100% (1222/1222), done.\n"
          ]
        }
      ],
      "source": [
        "! git clone https://github.com/batuser/recruit.git"
      ]
    },
    {
      "cell_type": "code",
      "source": [
        "!pip install pydicom"
      ],
      "metadata": {
        "colab": {
          "base_uri": "https://localhost:8080/"
        },
        "id": "FZoWtiMc3-lW",
        "outputId": "d2f4f65a-5978-419d-b487-1c70b7385b3e"
      },
      "execution_count": 2,
      "outputs": [
        {
          "output_type": "stream",
          "name": "stdout",
          "text": [
            "Looking in indexes: https://pypi.org/simple, https://us-python.pkg.dev/colab-wheels/public/simple/\n",
            "Collecting pydicom\n",
            "  Downloading pydicom-2.3.1-py3-none-any.whl (2.0 MB)\n",
            "\u001b[2K     \u001b[90m━━━━━━━━━━━━━━━━━━━━━━━━━━━━━━━━━━━━━━━━\u001b[0m \u001b[32m2.0/2.0 MB\u001b[0m \u001b[31m19.0 MB/s\u001b[0m eta \u001b[36m0:00:00\u001b[0m\n",
            "\u001b[?25hInstalling collected packages: pydicom\n",
            "Successfully installed pydicom-2.3.1\n"
          ]
        }
      ]
    },
    {
      "cell_type": "code",
      "source": [
        "import glob\n",
        "import os\n",
        "import pydicom\n",
        "\n",
        "ls_image = glob.glob(os.path.join(\"/content/recruit/src\", \"*.dcm\"))\n",
        "print(f\"found images: {len(ls_image)}\")"
      ],
      "metadata": {
        "colab": {
          "base_uri": "https://localhost:8080/"
        },
        "id": "M4cnp01jGGlr",
        "outputId": "467714ca-233b-4f8e-c297-e670632ecee6"
      },
      "execution_count": 3,
      "outputs": [
        {
          "output_type": "stream",
          "name": "stdout",
          "text": [
            "found images: 1710\n"
          ]
        }
      ]
    },
    {
      "cell_type": "markdown",
      "source": [
        "# Анонимизируем файлы"
      ],
      "metadata": {
        "id": "lRRBhUpEKa3T"
      }
    },
    {
      "cell_type": "code",
      "source": [
        "dfs = []\n",
        "for file in ls_image:\n",
        "  df = pydicom.dcmread(file)\n",
        "  dfs.append(df)"
      ],
      "metadata": {
        "id": "vMEGjUPYKdUD"
      },
      "execution_count": 4,
      "outputs": []
    },
    {
      "cell_type": "code",
      "source": [
        "for file in dfs:\n",
        "  try:\n",
        "    del file.PatientName\n",
        "  except:\n",
        "    pass"
      ],
      "metadata": {
        "id": "8pXxlQoanneu"
      },
      "execution_count": 5,
      "outputs": []
    },
    {
      "cell_type": "code",
      "source": [
        "'PatientName' in dfs"
      ],
      "metadata": {
        "colab": {
          "base_uri": "https://localhost:8080/"
        },
        "id": "KSBtJ-xeozV4",
        "outputId": "3a452abc-845b-4c3d-8652-097dd13ec447"
      },
      "execution_count": 6,
      "outputs": [
        {
          "output_type": "execute_result",
          "data": {
            "text/plain": [
              "False"
            ]
          },
          "metadata": {},
          "execution_count": 6
        }
      ]
    },
    {
      "cell_type": "markdown",
      "source": [
        "# Преобразование структуры хранения файлов"
      ],
      "metadata": {
        "id": "53V-JxmvTzOL"
      }
    },
    {
      "cell_type": "markdown",
      "source": [
        "## Изменение имени файла на значение SOPInstanceUID"
      ],
      "metadata": {
        "id": "hDEmLZfGbP9c"
      }
    },
    {
      "cell_type": "code",
      "source": [
        "import os\n",
        "\n",
        "for file in ls_image:\n",
        "  dfs = []\n",
        "  df = pydicom.dcmread(file)\n",
        "  dfs.append(df)\n",
        "  for _ in dfs:\n",
        "    os.rename(file, _.SOPInstanceUID  + \".dcm\") "
      ],
      "metadata": {
        "id": "LhxFwcnubQ62"
      },
      "execution_count": 7,
      "outputs": []
    },
    {
      "cell_type": "markdown",
      "source": [
        "##Первый уровень StudyInstanceUID"
      ],
      "metadata": {
        "id": "1mQCpo69T9Wt"
      }
    },
    {
      "cell_type": "code",
      "source": [
        "dfs = []\n",
        "for file in glob.glob(os.path.join(\"/content\", \"*.dcm\")):\n",
        "  df = pydicom.dcmread(file)\n",
        "  dfs.append(df)"
      ],
      "metadata": {
        "id": "VFiSCoBKdXjY"
      },
      "execution_count": 8,
      "outputs": []
    },
    {
      "cell_type": "code",
      "source": [
        "def get_unique_numbers(dfs):\n",
        "    unique = []\n",
        "\n",
        "    for file in dfs:\n",
        "        if file.StudyInstanceUID in unique:\n",
        "            continue\n",
        "        else:\n",
        "            unique.append(file.StudyInstanceUID)\n",
        "    return unique\n",
        "\n",
        "print(get_unique_numbers(dfs))"
      ],
      "metadata": {
        "colab": {
          "base_uri": "https://localhost:8080/"
        },
        "id": "Ptm4hAowtkJx",
        "outputId": "fb854c8c-ccc6-4fa1-8de9-cf15c37e16a3"
      },
      "execution_count": 9,
      "outputs": [
        {
          "output_type": "stream",
          "name": "stdout",
          "text": [
            "['2.25.13148394979245937484165594540025668927189308811493143066650', '2.25.12746853354631835022544074342074946636784861112151570567432', '2.25.10321985092426727495085036766200110321088479128158880672806', '2.25.60662495564633805468505226801786163568539534060058594634718', '2.25.66234994940093060530875882673593880723182397297085825139120', '2.25.17062309086576606706587560884681601601915389122225987441686', '2.25.12959879976443571621843145901999710656652277064659217139009', '2.25.98888670383004086987645641136824594925503511590518072086703', '2.25.35193188203745815244910362565296784033634969082919474444996', '2.25.60037070027156423276159501017920151735078954137544798194660']\n"
          ]
        }
      ]
    },
    {
      "cell_type": "code",
      "source": [
        "import shutil\n",
        "\n",
        "!mkdir '/content/src_new'\n",
        "!mkdir '/content/src_new/2.25.60662495564633805468505226801786163568539534060058594634718'\n",
        "!mkdir '/content/src_new/2.25.17062309086576606706587560884681601601915389122225987441686'\n",
        "!mkdir '/content/src_new/2.25.60037070027156423276159501017920151735078954137544798194660'\n",
        "!mkdir '/content/src_new/2.25.10321985092426727495085036766200110321088479128158880672806'\n",
        "!mkdir '/content/src_new/2.25.12959879976443571621843145901999710656652277064659217139009'\n",
        "!mkdir '/content/src_new/2.25.12746853354631835022544074342074946636784861112151570567432'\n",
        "!mkdir '/content/src_new/2.25.98888670383004086987645641136824594925503511590518072086703'\n",
        "!mkdir '/content/src_new/2.25.66234994940093060530875882673593880723182397297085825139120'\n",
        "!mkdir '/content/src_new/2.25.35193188203745815244910362565296784033634969082919474444996'\n",
        "!mkdir '/content/src_new/2.25.13148394979245937484165594540025668927189308811493143066650'\n",
        "\n",
        "\n",
        "for file in glob.glob(os.path.join(\"/content\", \"*.dcm\")):\n",
        "  dfs = []\n",
        "  df = pydicom.dcmread(file)\n",
        "  dfs.append(df)\n",
        "  for _ in dfs:\n",
        "    if _.StudyInstanceUID == '2.25.60662495564633805468505226801786163568539534060058594634718':\n",
        "      shutil.move(file, '/content/src_new/2.25.60662495564633805468505226801786163568539534060058594634718')\n",
        "  for _ in dfs:\n",
        "    if _.StudyInstanceUID == '2.25.17062309086576606706587560884681601601915389122225987441686':\n",
        "      shutil.move(file, '/content/src_new/2.25.17062309086576606706587560884681601601915389122225987441686')\n",
        "  for _ in dfs:\n",
        "    if _.StudyInstanceUID == '2.25.60037070027156423276159501017920151735078954137544798194660':\n",
        "      shutil.move(file, '/content/src_new/2.25.60037070027156423276159501017920151735078954137544798194660')\n",
        "  for _ in dfs:\n",
        "    if _.StudyInstanceUID == '2.25.10321985092426727495085036766200110321088479128158880672806':\n",
        "      shutil.move(file, '/content/src_new/2.25.10321985092426727495085036766200110321088479128158880672806')\n",
        "  for _ in dfs:\n",
        "    if _.StudyInstanceUID == '2.25.12959879976443571621843145901999710656652277064659217139009':\n",
        "      shutil.move(file, '/content/src_new/2.25.12959879976443571621843145901999710656652277064659217139009')\n",
        "  for _ in dfs:\n",
        "    if _.StudyInstanceUID == '2.25.12746853354631835022544074342074946636784861112151570567432':\n",
        "      shutil.move(file, '/content/src_new/2.25.12746853354631835022544074342074946636784861112151570567432')   \n",
        "  for _ in dfs:\n",
        "    if _.StudyInstanceUID == '2.25.98888670383004086987645641136824594925503511590518072086703':\n",
        "      shutil.move(file, '/content/src_new/2.25.98888670383004086987645641136824594925503511590518072086703')\n",
        "  for _ in dfs:\n",
        "    if _.StudyInstanceUID == '2.25.66234994940093060530875882673593880723182397297085825139120':\n",
        "      shutil.move(file, '/content/src_new/2.25.66234994940093060530875882673593880723182397297085825139120')\n",
        "  for _ in dfs:\n",
        "    if _.StudyInstanceUID == '2.25.35193188203745815244910362565296784033634969082919474444996':\n",
        "      shutil.move(file, '/content/src_new/2.25.35193188203745815244910362565296784033634969082919474444996')\n",
        "  for _ in dfs:\n",
        "    if _.StudyInstanceUID == '2.25.13148394979245937484165594540025668927189308811493143066650':\n",
        "      shutil.move(file, '/content/src_new/2.25.13148394979245937484165594540025668927189308811493143066650')"
      ],
      "metadata": {
        "id": "gAG8wzqVDj44"
      },
      "execution_count": 10,
      "outputs": []
    },
    {
      "cell_type": "markdown",
      "source": [
        "##Второй уровень SeriesInstanceUID"
      ],
      "metadata": {
        "id": "4ovV-OaZUGiw"
      }
    },
    {
      "cell_type": "code",
      "source": [
        "for file in  glob.glob(os.path.join(\"/content/src_new/2.25.60662495564633805468505226801786163568539534060058594634718\", \"*.dcm\")):\n",
        "  dfs = []\n",
        "  df = pydicom.dcmread(file)\n",
        "  dfs.append(df)\n",
        "\n",
        "def get_unique_numbers(dfs):\n",
        "    unique = []\n",
        "\n",
        "    for file in dfs:\n",
        "        if file.SeriesInstanceUID in unique:\n",
        "            continue\n",
        "        else:\n",
        "            unique.append(file.SeriesInstanceUID)\n",
        "    return unique\n",
        "\n",
        "print(get_unique_numbers(dfs))"
      ],
      "metadata": {
        "colab": {
          "base_uri": "https://localhost:8080/"
        },
        "id": "RDhlUqf2WWyV",
        "outputId": "e8544ba6-760c-4108-d99c-c84b9666fc46"
      },
      "execution_count": 11,
      "outputs": [
        {
          "output_type": "stream",
          "name": "stdout",
          "text": [
            "['2.25.23177023242873676261568336453930869055631349502016160372923']\n"
          ]
        }
      ]
    },
    {
      "cell_type": "code",
      "source": [
        "!mkdir '/content/src_new/2.25.60662495564633805468505226801786163568539534060058594634718/2.25.23177023242873676261568336453930869055631349502016160372923'\n",
        "\n",
        "for file in glob.glob(os.path.join(\"/content/src_new/2.25.60662495564633805468505226801786163568539534060058594634718\", \"*.dcm\")):\n",
        "  dfs = []\n",
        "  df = pydicom.dcmread(file)\n",
        "  dfs.append(df)\n",
        "  for _ in dfs:\n",
        "    if _.SeriesInstanceUID == '2.25.23177023242873676261568336453930869055631349502016160372923':\n",
        "      shutil.move(file, '/content/src_new/2.25.60662495564633805468505226801786163568539534060058594634718/2.25.23177023242873676261568336453930869055631349502016160372923')\n"
      ],
      "metadata": {
        "id": "AVK_MoMtPgWr"
      },
      "execution_count": 12,
      "outputs": []
    },
    {
      "cell_type": "code",
      "source": [
        "for file in  glob.glob(os.path.join(\"/content/src_new/2.25.17062309086576606706587560884681601601915389122225987441686\", \"*.dcm\")):\n",
        "  dfs = []\n",
        "  df = pydicom.dcmread(file)\n",
        "  dfs.append(df)\n",
        "\n",
        "def get_unique_numbers(dfs):\n",
        "    unique = []\n",
        "\n",
        "    for file in dfs:\n",
        "        if file.SeriesInstanceUID in unique:\n",
        "            continue\n",
        "        else:\n",
        "            unique.append(file.SeriesInstanceUID)\n",
        "    return unique\n",
        "\n",
        "print(get_unique_numbers(dfs))"
      ],
      "metadata": {
        "id": "R8PN4tzkR6-H",
        "colab": {
          "base_uri": "https://localhost:8080/"
        },
        "outputId": "3a46295b-308b-4b09-8740-0f0f9727b80d"
      },
      "execution_count": 13,
      "outputs": [
        {
          "output_type": "stream",
          "name": "stdout",
          "text": [
            "['2.25.50667618854963890045495883831990802854777872473543131775273']\n"
          ]
        }
      ]
    },
    {
      "cell_type": "code",
      "source": [
        "!mkdir '/content/src_new/2.25.17062309086576606706587560884681601601915389122225987441686/2.25.50667618854963890045495883831990802854777872473543131775273'\n",
        "\n",
        "for file in glob.glob(os.path.join(\"/content/src_new/2.25.17062309086576606706587560884681601601915389122225987441686\", \"*.dcm\")):\n",
        "  dfs = []\n",
        "  df = pydicom.dcmread(file)\n",
        "  dfs.append(df)\n",
        "  for _ in dfs:\n",
        "    if _.SeriesInstanceUID == '2.25.50667618854963890045495883831990802854777872473543131775273':\n",
        "      shutil.move(file, '/content/src_new/2.25.17062309086576606706587560884681601601915389122225987441686/2.25.50667618854963890045495883831990802854777872473543131775273')\n"
      ],
      "metadata": {
        "id": "MjxMlbdOXhM2"
      },
      "execution_count": 14,
      "outputs": []
    },
    {
      "cell_type": "code",
      "source": [
        "for file in  glob.glob(os.path.join(\"/content/src_new/2.25.60037070027156423276159501017920151735078954137544798194660\", \"*.dcm\")):\n",
        "  dfs = []\n",
        "  df = pydicom.dcmread(file)\n",
        "  dfs.append(df)\n",
        "\n",
        "def get_unique_numbers(dfs):\n",
        "    unique = []\n",
        "\n",
        "    for file in dfs:\n",
        "        if file.SeriesInstanceUID in unique:\n",
        "            continue\n",
        "        else:\n",
        "            unique.append(file.SeriesInstanceUID)\n",
        "    return unique\n",
        "\n",
        "print(get_unique_numbers(dfs))"
      ],
      "metadata": {
        "id": "SqC06kKRSX2D",
        "colab": {
          "base_uri": "https://localhost:8080/"
        },
        "outputId": "00e583ac-8a6d-4cae-dd1b-955304a34e52"
      },
      "execution_count": 15,
      "outputs": [
        {
          "output_type": "stream",
          "name": "stdout",
          "text": [
            "['2.25.58703274222857573910779974742342423982066946347485459782406']\n"
          ]
        }
      ]
    },
    {
      "cell_type": "code",
      "source": [
        "!mkdir '/content/src_new/2.25.60037070027156423276159501017920151735078954137544798194660/2.25.58703274222857573910779974742342423982066946347485459782406'\n",
        "\n",
        "for file in glob.glob(os.path.join(\"/content/src_new/2.25.60037070027156423276159501017920151735078954137544798194660\", \"*.dcm\")):\n",
        "  dfs = []\n",
        "  df = pydicom.dcmread(file)\n",
        "  dfs.append(df)\n",
        "  for _ in dfs:\n",
        "    if _.SeriesInstanceUID == '2.25.58703274222857573910779974742342423982066946347485459782406':\n",
        "      shutil.move(file, '/content/src_new/2.25.60037070027156423276159501017920151735078954137544798194660/2.25.58703274222857573910779974742342423982066946347485459782406')\n"
      ],
      "metadata": {
        "id": "6WfepJwaZVV5"
      },
      "execution_count": 16,
      "outputs": []
    },
    {
      "cell_type": "code",
      "source": [
        "for file in  glob.glob(os.path.join(\"/content/src_new/2.25.10321985092426727495085036766200110321088479128158880672806\", \"*.dcm\")):\n",
        "  dfs = []\n",
        "  df = pydicom.dcmread(file)\n",
        "  dfs.append(df)\n",
        "\n",
        "def get_unique_numbers(dfs):\n",
        "    unique = []\n",
        "\n",
        "    for file in dfs:\n",
        "        if file.SeriesInstanceUID in unique:\n",
        "            continue\n",
        "        else:\n",
        "            unique.append(file.SeriesInstanceUID)\n",
        "    return unique\n",
        "\n",
        "print(get_unique_numbers(dfs))"
      ],
      "metadata": {
        "id": "2nZpCwwpZx8I",
        "colab": {
          "base_uri": "https://localhost:8080/"
        },
        "outputId": "44c21885-ec8c-4789-887c-7c64fc81a97e"
      },
      "execution_count": 17,
      "outputs": [
        {
          "output_type": "stream",
          "name": "stdout",
          "text": [
            "['2.25.12245200989124966008434143202906423834502420930679659797746']\n"
          ]
        }
      ]
    },
    {
      "cell_type": "code",
      "source": [
        "!mkdir '/content/src_new/2.25.10321985092426727495085036766200110321088479128158880672806/2.25.12245200989124966008434143202906423834502420930679659797746'\n",
        "\n",
        "for file in glob.glob(os.path.join(\"/content/src_new/2.25.10321985092426727495085036766200110321088479128158880672806\", \"*.dcm\")):\n",
        "  dfs = []\n",
        "  df = pydicom.dcmread(file)\n",
        "  dfs.append(df)\n",
        "  for _ in dfs:\n",
        "    if _.SeriesInstanceUID == '2.25.12245200989124966008434143202906423834502420930679659797746':\n",
        "      shutil.move(file, '/content/src_new/2.25.10321985092426727495085036766200110321088479128158880672806/2.25.12245200989124966008434143202906423834502420930679659797746')\n"
      ],
      "metadata": {
        "id": "5a9T_LA5aDeB"
      },
      "execution_count": 18,
      "outputs": []
    },
    {
      "cell_type": "code",
      "source": [
        "for file in  glob.glob(os.path.join(\"/content/src_new/2.25.12959879976443571621843145901999710656652277064659217139009\", \"*.dcm\")):\n",
        "  dfs = []\n",
        "  df = pydicom.dcmread(file)\n",
        "  dfs.append(df)\n",
        "\n",
        "def get_unique_numbers(dfs):\n",
        "    unique = []\n",
        "\n",
        "    for file in dfs:\n",
        "        if file.SeriesInstanceUID in unique:\n",
        "            continue\n",
        "        else:\n",
        "            unique.append(file.SeriesInstanceUID)\n",
        "    return unique\n",
        "\n",
        "print(get_unique_numbers(dfs))"
      ],
      "metadata": {
        "id": "VN9rCB-Taj2R",
        "colab": {
          "base_uri": "https://localhost:8080/"
        },
        "outputId": "ba22da86-2faf-4ef9-f37b-2d012fef96e5"
      },
      "execution_count": 19,
      "outputs": [
        {
          "output_type": "stream",
          "name": "stdout",
          "text": [
            "['2.25.30788716658081497459531139694673322712892260060074425235891']\n"
          ]
        }
      ]
    },
    {
      "cell_type": "code",
      "source": [
        "!mkdir '/content/src_new/2.25.12959879976443571621843145901999710656652277064659217139009/2.25.30788716658081497459531139694673322712892260060074425235891'\n",
        "\n",
        "for file in glob.glob(os.path.join(\"/content/src_new/2.25.12959879976443571621843145901999710656652277064659217139009\", \"*.dcm\")):\n",
        "  dfs = []\n",
        "  df = pydicom.dcmread(file)\n",
        "  dfs.append(df)\n",
        "  for _ in dfs:\n",
        "    if _.SeriesInstanceUID == '2.25.30788716658081497459531139694673322712892260060074425235891':\n",
        "      shutil.move(file, '/content/src_new/2.25.12959879976443571621843145901999710656652277064659217139009/2.25.30788716658081497459531139694673322712892260060074425235891')\n"
      ],
      "metadata": {
        "id": "KfmT3JQPa1EX"
      },
      "execution_count": 20,
      "outputs": []
    },
    {
      "cell_type": "code",
      "source": [
        "for file in  glob.glob(os.path.join(\"/content/src_new/2.25.12746853354631835022544074342074946636784861112151570567432\", \"*.dcm\")):\n",
        "  dfs = []\n",
        "  df = pydicom.dcmread(file)\n",
        "  dfs.append(df)\n",
        "\n",
        "def get_unique_numbers(dfs):\n",
        "    unique = []\n",
        "\n",
        "    for file in dfs:\n",
        "        if file.SeriesInstanceUID in unique:\n",
        "            continue\n",
        "        else:\n",
        "            unique.append(file.SeriesInstanceUID)\n",
        "    return unique\n",
        "\n",
        "print(get_unique_numbers(dfs))"
      ],
      "metadata": {
        "id": "-1IWCHEjcG1Q",
        "colab": {
          "base_uri": "https://localhost:8080/"
        },
        "outputId": "051c82a8-fcad-4d0c-e8ac-8e21fb617b8a"
      },
      "execution_count": 21,
      "outputs": [
        {
          "output_type": "stream",
          "name": "stdout",
          "text": [
            "['2.25.55445977593687452552162689821315777991001864298474807539386']\n"
          ]
        }
      ]
    },
    {
      "cell_type": "code",
      "source": [
        "!mkdir '/content/src_new/2.25.12746853354631835022544074342074946636784861112151570567432/2.25.55445977593687452552162689821315777991001864298474807539386'\n",
        "\n",
        "for file in glob.glob(os.path.join(\"/content/src_new/2.25.12746853354631835022544074342074946636784861112151570567432\", \"*.dcm\")):\n",
        "  dfs = []\n",
        "  df = pydicom.dcmread(file)\n",
        "  dfs.append(df)\n",
        "  for _ in dfs:\n",
        "    if _.SeriesInstanceUID == '2.25.55445977593687452552162689821315777991001864298474807539386':\n",
        "      shutil.move(file, '/content/src_new/2.25.12746853354631835022544074342074946636784861112151570567432/2.25.55445977593687452552162689821315777991001864298474807539386')\n"
      ],
      "metadata": {
        "id": "wZvRSz59ceR8"
      },
      "execution_count": 22,
      "outputs": []
    },
    {
      "cell_type": "code",
      "source": [
        "for file in  glob.glob(os.path.join(\"/content/src_new/2.25.98888670383004086987645641136824594925503511590518072086703\", \"*.dcm\")):\n",
        "  dfs = []\n",
        "  df = pydicom.dcmread(file)\n",
        "  dfs.append(df)\n",
        "\n",
        "def get_unique_numbers(dfs):\n",
        "    unique = []\n",
        "\n",
        "    for file in dfs:\n",
        "        if file.SeriesInstanceUID in unique:\n",
        "            continue\n",
        "        else:\n",
        "            unique.append(file.SeriesInstanceUID)\n",
        "    return unique\n",
        "\n",
        "print(get_unique_numbers(dfs))"
      ],
      "metadata": {
        "id": "hg5kzsuhcxUI",
        "colab": {
          "base_uri": "https://localhost:8080/"
        },
        "outputId": "b75c18eb-4241-4799-ca7c-f9917fa7b5e8"
      },
      "execution_count": 23,
      "outputs": [
        {
          "output_type": "stream",
          "name": "stdout",
          "text": [
            "['2.25.49786438440204042581163745798135911848302059832261043757338']\n"
          ]
        }
      ]
    },
    {
      "cell_type": "code",
      "source": [
        "!mkdir '/content/src_new/2.25.98888670383004086987645641136824594925503511590518072086703/2.25.49786438440204042581163745798135911848302059832261043757338'\n",
        "\n",
        "for file in glob.glob(os.path.join(\"/content/src_new/2.25.98888670383004086987645641136824594925503511590518072086703\", \"*.dcm\")):\n",
        "  dfs = []\n",
        "  df = pydicom.dcmread(file)\n",
        "  dfs.append(df)\n",
        "  for _ in dfs:\n",
        "    if _.SeriesInstanceUID == '2.25.49786438440204042581163745798135911848302059832261043757338':\n",
        "      shutil.move(file, '/content/src_new/2.25.98888670383004086987645641136824594925503511590518072086703/2.25.49786438440204042581163745798135911848302059832261043757338')\n"
      ],
      "metadata": {
        "id": "7Rq04j1Yc42m"
      },
      "execution_count": 24,
      "outputs": []
    },
    {
      "cell_type": "code",
      "source": [
        "for file in  glob.glob(os.path.join(\"/content/src_new/2.25.66234994940093060530875882673593880723182397297085825139120\", \"*.dcm\")):\n",
        "  dfs = []\n",
        "  df = pydicom.dcmread(file)\n",
        "  dfs.append(df)\n",
        "\n",
        "def get_unique_numbers(dfs):\n",
        "    unique = []\n",
        "\n",
        "    for file in dfs:\n",
        "        if file.SeriesInstanceUID in unique:\n",
        "            continue\n",
        "        else:\n",
        "            unique.append(file.SeriesInstanceUID)\n",
        "    return unique\n",
        "\n",
        "print(get_unique_numbers(dfs))"
      ],
      "metadata": {
        "id": "xVDFFqA3eNxo",
        "colab": {
          "base_uri": "https://localhost:8080/"
        },
        "outputId": "3b6fbe79-eecc-41da-d1e3-e16333ad1397"
      },
      "execution_count": 25,
      "outputs": [
        {
          "output_type": "stream",
          "name": "stdout",
          "text": [
            "['2.25.27985737130106072918310533525688877208529713445697698517643']\n"
          ]
        }
      ]
    },
    {
      "cell_type": "code",
      "source": [
        "!mkdir '/content/src_new/2.25.66234994940093060530875882673593880723182397297085825139120/2.25.27985737130106072918310533525688877208529713445697698517643'\n",
        "\n",
        "for file in glob.glob(os.path.join(\"/content/src_new/2.25.66234994940093060530875882673593880723182397297085825139120\", \"*.dcm\")):\n",
        "  dfs = []\n",
        "  df = pydicom.dcmread(file)\n",
        "  dfs.append(df)\n",
        "  for _ in dfs:\n",
        "    if _.SeriesInstanceUID == '2.25.27985737130106072918310533525688877208529713445697698517643':\n",
        "      shutil.move(file, '/content/src_new/2.25.66234994940093060530875882673593880723182397297085825139120/2.25.27985737130106072918310533525688877208529713445697698517643')\n"
      ],
      "metadata": {
        "id": "WSvXNeL8eWm4"
      },
      "execution_count": 26,
      "outputs": []
    },
    {
      "cell_type": "code",
      "source": [
        "for file in  glob.glob(os.path.join(\"/content/src_new/2.25.35193188203745815244910362565296784033634969082919474444996\", \"*.dcm\")):\n",
        "  dfs = []\n",
        "  df = pydicom.dcmread(file)\n",
        "  dfs.append(df)\n",
        "\n",
        "def get_unique_numbers(dfs):\n",
        "    unique = []\n",
        "\n",
        "    for file in dfs:\n",
        "        if file.SeriesInstanceUID in unique:\n",
        "            continue\n",
        "        else:\n",
        "            unique.append(file.SeriesInstanceUID)\n",
        "    return unique\n",
        "\n",
        "print(get_unique_numbers(dfs))"
      ],
      "metadata": {
        "id": "IN0joyeWeprU",
        "colab": {
          "base_uri": "https://localhost:8080/"
        },
        "outputId": "0a615ba5-11f9-45de-ec5b-a6bdc62a88a6"
      },
      "execution_count": 27,
      "outputs": [
        {
          "output_type": "stream",
          "name": "stdout",
          "text": [
            "['2.25.12970329936873942015686585329699398917482259819753869525076']\n"
          ]
        }
      ]
    },
    {
      "cell_type": "code",
      "source": [
        "!mkdir '/content/src_new/2.25.35193188203745815244910362565296784033634969082919474444996/2.25.12970329936873942015686585329699398917482259819753869525076'\n",
        "\n",
        "for file in glob.glob(os.path.join(\"/content/src_new/2.25.35193188203745815244910362565296784033634969082919474444996\", \"*.dcm\")):\n",
        "  dfs = []\n",
        "  df = pydicom.dcmread(file)\n",
        "  dfs.append(df)\n",
        "  for _ in dfs:\n",
        "    if _.SeriesInstanceUID == '2.25.12970329936873942015686585329699398917482259819753869525076':\n",
        "      shutil.move(file, '/content/src_new/2.25.35193188203745815244910362565296784033634969082919474444996/2.25.12970329936873942015686585329699398917482259819753869525076')\n"
      ],
      "metadata": {
        "id": "1DXcHEvVfKSO"
      },
      "execution_count": 28,
      "outputs": []
    },
    {
      "cell_type": "code",
      "source": [
        "for file in  glob.glob(os.path.join(\"/content/src_new/2.25.13148394979245937484165594540025668927189308811493143066650\", \"*.dcm\")):\n",
        "  dfs = []\n",
        "  df = pydicom.dcmread(file)\n",
        "  dfs.append(df)\n",
        "\n",
        "def get_unique_numbers(dfs):\n",
        "    unique = []\n",
        "\n",
        "    for file in dfs:\n",
        "        if file.SeriesInstanceUID in unique:\n",
        "            continue\n",
        "        else:\n",
        "            unique.append(file.SeriesInstanceUID)\n",
        "    return unique\n",
        "\n",
        "print(get_unique_numbers(dfs))"
      ],
      "metadata": {
        "id": "Xic5QWWEfitA",
        "colab": {
          "base_uri": "https://localhost:8080/"
        },
        "outputId": "411a7344-6aac-43f0-92a2-fce0acc36fec"
      },
      "execution_count": 29,
      "outputs": [
        {
          "output_type": "stream",
          "name": "stdout",
          "text": [
            "['2.25.53298563728906335585833752405238884704498238267638676785109']\n"
          ]
        }
      ]
    },
    {
      "cell_type": "code",
      "source": [
        "!mkdir '/content/src_new/2.25.13148394979245937484165594540025668927189308811493143066650/2.25.53298563728906335585833752405238884704498238267638676785109'\n",
        "\n",
        "for file in glob.glob(os.path.join(\"/content/src_new/2.25.13148394979245937484165594540025668927189308811493143066650\", \"*.dcm\")):\n",
        "  dfs = []\n",
        "  df = pydicom.dcmread(file)\n",
        "  dfs.append(df)\n",
        "  for _ in dfs:\n",
        "    if _.SeriesInstanceUID == '2.25.53298563728906335585833752405238884704498238267638676785109':\n",
        "      shutil.move(file, '/content/src_new/2.25.13148394979245937484165594540025668927189308811493143066650/2.25.53298563728906335585833752405238884704498238267638676785109')\n"
      ],
      "metadata": {
        "id": "NNZU2A5zf6Kh"
      },
      "execution_count": 30,
      "outputs": []
    },
    {
      "cell_type": "markdown",
      "source": [
        "# Файл со списком соответствия путей"
      ],
      "metadata": {
        "id": "QKPj3jhcGzb9"
      }
    },
    {
      "cell_type": "code",
      "source": [
        "!rm -r /content/recruit"
      ],
      "metadata": {
        "id": "oSS8AKjEgIM8"
      },
      "execution_count": 31,
      "outputs": []
    },
    {
      "cell_type": "code",
      "source": [
        "! git clone https://github.com/batuser/recruit.git"
      ],
      "metadata": {
        "colab": {
          "base_uri": "https://localhost:8080/"
        },
        "id": "tt4tzabxfvM3",
        "outputId": "9323f377-2a7a-4b26-b740-1201904ef045"
      },
      "execution_count": 32,
      "outputs": [
        {
          "output_type": "stream",
          "name": "stdout",
          "text": [
            "Cloning into 'recruit'...\n",
            "remote: Enumerating objects: 1722, done.\u001b[K\n",
            "remote: Counting objects: 100% (1722/1722), done.\u001b[K\n",
            "remote: Compressing objects: 100% (501/501), done.\u001b[K\n",
            "remote: Total 1722 (delta 1222), reused 1716 (delta 1220), pack-reused 0\u001b[K\n",
            "Receiving objects: 100% (1722/1722), 521.89 KiB | 5.17 MiB/s, done.\n",
            "Resolving deltas: 100% (1222/1222), done.\n"
          ]
        }
      ]
    },
    {
      "cell_type": "code",
      "source": [
        "import sys\n",
        "file_path = '/content/file.txt'\n",
        "sys.stdout = open(file_path, \"w\")\n",
        "for file in glob.glob(os.path.join(\"/content/recruit/src\", \"*.dcm\")):\n",
        "  dfs = []\n",
        "  df = pydicom.dcmread(file)\n",
        "  dfs.append(df)\n",
        "  for _ in dfs:\n",
        "    print(f\"Old file: {file} -> New_file: {'/content/src_new/'+_.StudyInstanceUID +'/'+ _.SeriesInstanceUID+'/'+_.SOPInstanceUID+'.dcm'}\")"
      ],
      "metadata": {
        "id": "vJ9ToNRQfVT9"
      },
      "execution_count": 39,
      "outputs": []
    }
  ]
}